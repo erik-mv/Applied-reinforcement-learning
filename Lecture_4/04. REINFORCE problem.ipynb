{
 "cells": [
  {
   "cell_type": "code",
   "execution_count": 1,
   "metadata": {
    "colab": {
     "base_uri": "https://localhost:8080/"
    },
    "executionInfo": {
     "elapsed": 14474,
     "status": "ok",
     "timestamp": 1635358253185,
     "user": {
      "displayName": "Oleg Svidchenko",
      "photoUrl": "https://lh3.googleusercontent.com/a-/AOh14GjtLmACOAq82avmVoshNzzAaxoCoazUityt1Bk5=s64",
      "userId": "05803297682533666498"
     },
     "user_tz": -180
    },
    "id": "oF0Fo0j90HZA",
    "outputId": "7425ccec-d686-46a4-a9ef-b954caf44a1e"
   },
   "outputs": [],
   "source": [
    "#!apt update > /dev/null 2>&1\n",
    "#!apt install -y xvfb python-opengl ffmpeg > /dev/null 2>&1\n",
    "import sys\n",
    "#!conda install --yes --prefix \"{sys.prefix}\" ipywidgets"
   ]
  },
  {
   "cell_type": "code",
   "execution_count": 2,
   "metadata": {
    "executionInfo": {
     "elapsed": 6,
     "status": "ok",
     "timestamp": 1635358253186,
     "user": {
      "displayName": "Oleg Svidchenko",
      "photoUrl": "https://lh3.googleusercontent.com/a-/AOh14GjtLmACOAq82avmVoshNzzAaxoCoazUityt1Bk5=s64",
      "userId": "05803297682533666498"
     },
     "user_tz": -180
    },
    "id": "46tUBMIEgyyg"
   },
   "outputs": [],
   "source": [
    "import numpy as np\n",
    "import matplotlib.pyplot as plt\n",
    "import ipywidgets as widgets"
   ]
  },
  {
   "cell_type": "code",
   "execution_count": 3,
   "metadata": {
    "executionInfo": {
     "elapsed": 6,
     "status": "ok",
     "timestamp": 1635358253187,
     "user": {
      "displayName": "Oleg Svidchenko",
      "photoUrl": "https://lh3.googleusercontent.com/a-/AOh14GjtLmACOAq82avmVoshNzzAaxoCoazUityt1Bk5=s64",
      "userId": "05803297682533666498"
     },
     "user_tz": -180
    },
    "id": "FWjlfbJU5zYX"
   },
   "outputs": [],
   "source": [
    "F_SCALE = 2"
   ]
  },
  {
   "cell_type": "code",
   "execution_count": 4,
   "metadata": {
    "executionInfo": {
     "elapsed": 6,
     "status": "ok",
     "timestamp": 1635358253187,
     "user": {
      "displayName": "Oleg Svidchenko",
      "photoUrl": "https://lh3.googleusercontent.com/a-/AOh14GjtLmACOAq82avmVoshNzzAaxoCoazUityt1Bk5=s64",
      "userId": "05803297682533666498"
     },
     "user_tz": -180
    },
    "id": "rVLZhOeAg2hW"
   },
   "outputs": [],
   "source": [
    "def func(x):\n",
    "    y = np.sin(5*x) * np.sin(3*x + 0.3) * np.cos(1.5 * x + 0.5) * F_SCALE\n",
    "    y[x < -np.pi] = 0\n",
    "    y[x > np.pi] = 0\n",
    "    return y\n",
    "\n",
    "def mu_grad_func(x, y, mu, sigma):\n",
    "    return -y * (mu - x) / sigma**2\n",
    "\n",
    "def sigma_grad_func(x, y, mu, sigma):\n",
    "    return -y * (1 / sigma - (mu - x)**2 / sigma**3)\n",
    "\n",
    "def normal_pdf(xs, mu, sigma):\n",
    "    return np.e**(-0.5 * ((xs - mu)/sigma)**2) / ((2 * np.pi)**0.5 * sigma)"
   ]
  },
  {
   "cell_type": "code",
   "execution_count": 5,
   "metadata": {
    "colab": {
     "base_uri": "https://localhost:8080/",
     "height": 269
    },
    "executionInfo": {
     "elapsed": 584,
     "status": "ok",
     "timestamp": 1635358253765,
     "user": {
      "displayName": "Oleg Svidchenko",
      "photoUrl": "https://lh3.googleusercontent.com/a-/AOh14GjtLmACOAq82avmVoshNzzAaxoCoazUityt1Bk5=s64",
      "userId": "05803297682533666498"
     },
     "user_tz": -180
    },
    "id": "C0gfBLgehFPr",
    "outputId": "a5e56cf5-cb2a-4e7f-eda9-df8bd351724b"
   },
   "outputs": [
    {
     "data": {
      "image/png": "[encoded data removed]",
      "text/plain": [
       "<Figure size 432x288 with 1 Axes>"
      ]
     },
     "metadata": {
      "needs_background": "light"
     },
     "output_type": "display_data"
    }
   ],
   "source": [
    "xs = np.linspace(-4, 4, 200)\n",
    "plt.plot(xs, func(xs))\n",
    "plt.xlim(xs[0], xs[-1])\n",
    "plt.grid()\n",
    "plt.show()"
   ]
  },
  {
   "cell_type": "code",
   "execution_count": 6,
   "metadata": {
    "executionInfo": {
     "elapsed": 7,
     "status": "ok",
     "timestamp": 1635358253766,
     "user": {
      "displayName": "Oleg Svidchenko",
      "photoUrl": "https://lh3.googleusercontent.com/a-/AOh14GjtLmACOAq82avmVoshNzzAaxoCoazUityt1Bk5=s64",
      "userId": "05803297682533666498"
     },
     "user_tz": -180
    },
    "id": "Hn7NfKMT0PYN"
   },
   "outputs": [],
   "source": [
    "def build_plot(x, mu, sigma):\n",
    "    y = func(np.array([x]))[0]\n",
    "    xs = np.linspace(-4, 4, 150)\n",
    "    ys = func(xs)\n",
    "    pdf = normal_pdf(xs, mu, sigma)\n",
    "    plt.figure(figsize=(12,8))\n",
    "    plt.xlim(-4, 4)\n",
    "    plt.ylim(-F_SCALE, F_SCALE)\n",
    "    plt.grid()\n",
    "\n",
    "    mu_next = mu + mu_grad_func(x, y, mu, sigma)\n",
    "    sigma_next = max(sigma + sigma_grad_func(x, y, mu, sigma), 0.01)\n",
    "    pdf_next = normal_pdf(xs, mu_next, sigma_next)\n",
    "    plt.plot(xs, 0.5 * F_SCALE * pdf_next, linestyle=\"-.\", color=(0.7, 0.7, 0.7))\n",
    "    plt.plot([mu_next, mu_next], [-F_SCALE, F_SCALE], linestyle=\"-.\", color=(0.7, 0.7, 0.7))\n",
    "\n",
    "    plt.plot(xs, 0.5 * F_SCALE * pdf, linestyle=\"-.\", color=(0.9, 0.1, 0.1))\n",
    "    plt.plot([mu, mu], [-F_SCALE, F_SCALE], linestyle=\"-.\", color=(0.9, 0.1, 0.1))\n",
    "    plt.plot(xs, ys, color=(0.1, 0.1, 0.9))\n",
    "    plt.scatter([x], [y], color=(0., 0., 0.))\n",
    "\n",
    "    plt.show()\n",
    "    "
   ]
  },
  {
   "cell_type": "code",
   "execution_count": 7,
   "metadata": {
    "colab": {
     "base_uri": "https://localhost:8080/",
     "height": 601,
     "referenced_widgets": [
      "2ef3147575174993982455b842cb8235",
      "33f57886ab054ed58206605ed9c92ab8",
      "3c5b84ebc8fb472d932b5d020bddbe5d",
      "ff1fa12abed64dcc8b85de24cdeb5c66",
      "122a484d144b408b8dd72e0dc465071f",
      "1c6445f13b454aa9ac4ca0806c965423",
      "c80b29266b6f40a6955418d8385c802b",
      "f84d3d12f03e462a9fb3136f6dbeca67",
      "3b8c5962b73f4a5aa39399bdd3339fb9",
      "f883624293a641ada76923af09b148ad",
      "f01a8b55b3d743d2b82f6825eeec1a5d",
      "cf358196cf774ebf9b106109db6d5ba0",
      "33afc9d2e40b428b8effa9b069044003"
     ]
    },
    "executionInfo": {
     "elapsed": 671,
     "status": "ok",
     "timestamp": 1635358254430,
     "user": {
      "displayName": "Oleg Svidchenko",
      "photoUrl": "https://lh3.googleusercontent.com/a-/AOh14GjtLmACOAq82avmVoshNzzAaxoCoazUityt1Bk5=s64",
      "userId": "05803297682533666498"
     },
     "user_tz": -180
    },
    "id": "TGRMNuQ-0NzP",
    "outputId": "474373b1-209e-465a-a4e1-c1abdb1192ef"
   },
   "outputs": [
    {
     "data": {
      "image/png": "[encoded data removed]",
      "text/plain": [
       "<Figure size 864x576 with 1 Axes>"
      ]
     },
     "metadata": {
      "needs_background": "light"
     },
     "output_type": "display_data"
    },
    {
     "data": {
      "text/plain": [
       "<function __main__.build_plot(x, mu, sigma)>"
      ]
     },
     "execution_count": 7,
     "metadata": {},
     "output_type": "execute_result"
    }
   ],
   "source": [
    "widgets.interact(build_plot, \n",
    "                 x=widgets.FloatSlider(min=-4, max=4, step=0.01), \n",
    "                 mu=widgets.FloatSlider(min=-4, max=4, step=0.01), \n",
    "                 sigma=widgets.FloatSlider(min=0.01, max=4, step=0.01))"
   ]
  }
 ],
 "metadata": {
  "colab": {
   "authorship_tag": "ABX9TyPJ9uKFPrpRd0cyKPNhdBhY",
   "collapsed_sections": [],
   "name": "04. REINFORCE problem.ipynb",
   "provenance": []
  },
  "kernelspec": {
   "display_name": "Python 3 (ipykernel)",
   "language": "python",
   "name": "python3"
  },
  "language_info": {
   "codemirror_mode": {
    "name": "ipython",
    "version": 3
   },
   "file_extension": ".py",
   "mimetype": "text/x-python",
   "name": "python",
   "nbconvert_exporter": "python",
   "pygments_lexer": "ipython3",
   "version": "3.8.12"
  },
  "widgets": {
   "application/vnd.jupyter.widget-state+json": {
    "122a484d144b408b8dd72e0dc465071f": {
     "model_module": "@jupyter-widgets/controls",
     "model_module_version": "1.5.0",
     "model_name": "FloatSliderModel",
     "state": {
      "_dom_classes": [],
      "_model_module": "@jupyter-widgets/controls",
      "_model_module_version": "1.5.0",
      "_model_name": "FloatSliderModel",
      "_view_count": null,
      "_view_module": "@jupyter-widgets/controls",
      "_view_module_version": "1.5.0",
      "_view_name": "FloatSliderView",
      "continuous_update": true,
      "description": "sigma",
      "description_tooltip": null,
      "disabled": false,
      "layout": "IPY_MODEL_cf358196cf774ebf9b106109db6d5ba0",
      "max": 4,
      "min": 0.01,
      "orientation": "horizontal",
      "readout": true,
      "readout_format": ".2f",
      "step": 0.01,
      "style": "IPY_MODEL_f01a8b55b3d743d2b82f6825eeec1a5d",
      "value": 0.22
     }
    },
    "1c6445f13b454aa9ac4ca0806c965423": {
     "model_module": "@jupyter-widgets/output",
     "model_module_version": "1.0.0",
     "model_name": "OutputModel",
     "state": {
      "_dom_classes": [],
      "_model_module": "@jupyter-widgets/output",
      "_model_module_version": "1.0.0",
      "_model_name": "OutputModel",
      "_view_count": null,
      "_view_module": "@jupyter-widgets/output",
      "_view_module_version": "1.0.0",
      "_view_name": "OutputView",
      "layout": "IPY_MODEL_33afc9d2e40b428b8effa9b069044003",
      "msg_id": "",
      "outputs": [
       {
        "data": {
         "image/png": "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\n",
         "text/plain": "<Figure size 864x576 with 1 Axes>"
        },
        "metadata": {
         "needs_background": "light"
        },
        "output_type": "display_data"
       }
      ]
     }
    },
    "2ef3147575174993982455b842cb8235": {
     "model_module": "@jupyter-widgets/controls",
     "model_module_version": "1.5.0",
     "model_name": "VBoxModel",
     "state": {
      "_dom_classes": [
       "widget-interact"
      ],
      "_model_module": "@jupyter-widgets/controls",
      "_model_module_version": "1.5.0",
      "_model_name": "VBoxModel",
      "_view_count": null,
      "_view_module": "@jupyter-widgets/controls",
      "_view_module_version": "1.5.0",
      "_view_name": "VBoxView",
      "box_style": "",
      "children": [
       "IPY_MODEL_3c5b84ebc8fb472d932b5d020bddbe5d",
       "IPY_MODEL_ff1fa12abed64dcc8b85de24cdeb5c66",
       "IPY_MODEL_122a484d144b408b8dd72e0dc465071f",
       "IPY_MODEL_1c6445f13b454aa9ac4ca0806c965423"
      ],
      "layout": "IPY_MODEL_33f57886ab054ed58206605ed9c92ab8"
     }
    },
    "33afc9d2e40b428b8effa9b069044003": {
     "model_module": "@jupyter-widgets/base",
     "model_module_version": "1.2.0",
     "model_name": "LayoutModel",
     "state": {
      "_model_module": "@jupyter-widgets/base",
      "_model_module_version": "1.2.0",
      "_model_name": "LayoutModel",
      "_view_count": null,
      "_view_module": "@jupyter-widgets/base",
      "_view_module_version": "1.2.0",
      "_view_name": "LayoutView",
      "align_content": null,
      "align_items": null,
      "align_self": null,
      "border": null,
      "bottom": null,
      "display": null,
      "flex": null,
      "flex_flow": null,
      "grid_area": null,
      "grid_auto_columns": null,
      "grid_auto_flow": null,
      "grid_auto_rows": null,
      "grid_column": null,
      "grid_gap": null,
      "grid_row": null,
      "grid_template_areas": null,
      "grid_template_columns": null,
      "grid_template_rows": null,
      "height": null,
      "justify_content": null,
      "justify_items": null,
      "left": null,
      "margin": null,
      "max_height": null,
      "max_width": null,
      "min_height": null,
      "min_width": null,
      "object_fit": null,
      "object_position": null,
      "order": null,
      "overflow": null,
      "overflow_x": null,
      "overflow_y": null,
      "padding": null,
      "right": null,
      "top": null,
      "visibility": null,
      "width": null
     }
    },
    "33f57886ab054ed58206605ed9c92ab8": {
     "model_module": "@jupyter-widgets/base",
     "model_module_version": "1.2.0",
     "model_name": "LayoutModel",
     "state": {
      "_model_module": "@jupyter-widgets/base",
      "_model_module_version": "1.2.0",
      "_model_name": "LayoutModel",
      "_view_count": null,
      "_view_module": "@jupyter-widgets/base",
      "_view_module_version": "1.2.0",
      "_view_name": "LayoutView",
      "align_content": null,
      "align_items": null,
      "align_self": null,
      "border": null,
      "bottom": null,
      "display": null,
      "flex": null,
      "flex_flow": null,
      "grid_area": null,
      "grid_auto_columns": null,
      "grid_auto_flow": null,
      "grid_auto_rows": null,
      "grid_column": null,
      "grid_gap": null,
      "grid_row": null,
      "grid_template_areas": null,
      "grid_template_columns": null,
      "grid_template_rows": null,
      "height": null,
      "justify_content": null,
      "justify_items": null,
      "left": null,
      "margin": null,
      "max_height": null,
      "max_width": null,
      "min_height": null,
      "min_width": null,
      "object_fit": null,
      "object_position": null,
      "order": null,
      "overflow": null,
      "overflow_x": null,
      "overflow_y": null,
      "padding": null,
      "right": null,
      "top": null,
      "visibility": null,
      "width": null
     }
    },
    "3b8c5962b73f4a5aa39399bdd3339fb9": {
     "model_module": "@jupyter-widgets/controls",
     "model_module_version": "1.5.0",
     "model_name": "SliderStyleModel",
     "state": {
      "_model_module": "@jupyter-widgets/controls",
      "_model_module_version": "1.5.0",
      "_model_name": "SliderStyleModel",
      "_view_count": null,
      "_view_module": "@jupyter-widgets/base",
      "_view_module_version": "1.2.0",
      "_view_name": "StyleView",
      "description_width": "",
      "handle_color": null
     }
    },
    "3c5b84ebc8fb472d932b5d020bddbe5d": {
     "model_module": "@jupyter-widgets/controls",
     "model_module_version": "1.5.0",
     "model_name": "FloatSliderModel",
     "state": {
      "_dom_classes": [],
      "_model_module": "@jupyter-widgets/controls",
      "_model_module_version": "1.5.0",
      "_model_name": "FloatSliderModel",
      "_view_count": null,
      "_view_module": "@jupyter-widgets/controls",
      "_view_module_version": "1.5.0",
      "_view_name": "FloatSliderView",
      "continuous_update": true,
      "description": "x",
      "description_tooltip": null,
      "disabled": false,
      "layout": "IPY_MODEL_f84d3d12f03e462a9fb3136f6dbeca67",
      "max": 4,
      "min": -4,
      "orientation": "horizontal",
      "readout": true,
      "readout_format": ".2f",
      "step": 0.01,
      "style": "IPY_MODEL_c80b29266b6f40a6955418d8385c802b",
      "value": 0
     }
    },
    "c80b29266b6f40a6955418d8385c802b": {
     "model_module": "@jupyter-widgets/controls",
     "model_module_version": "1.5.0",
     "model_name": "SliderStyleModel",
     "state": {
      "_model_module": "@jupyter-widgets/controls",
      "_model_module_version": "1.5.0",
      "_model_name": "SliderStyleModel",
      "_view_count": null,
      "_view_module": "@jupyter-widgets/base",
      "_view_module_version": "1.2.0",
      "_view_name": "StyleView",
      "description_width": "",
      "handle_color": null
     }
    },
    "cf358196cf774ebf9b106109db6d5ba0": {
     "model_module": "@jupyter-widgets/base",
     "model_module_version": "1.2.0",
     "model_name": "LayoutModel",
     "state": {
      "_model_module": "@jupyter-widgets/base",
      "_model_module_version": "1.2.0",
      "_model_name": "LayoutModel",
      "_view_count": null,
      "_view_module": "@jupyter-widgets/base",
      "_view_module_version": "1.2.0",
      "_view_name": "LayoutView",
      "align_content": null,
      "align_items": null,
      "align_self": null,
      "border": null,
      "bottom": null,
      "display": null,
      "flex": null,
      "flex_flow": null,
      "grid_area": null,
      "grid_auto_columns": null,
      "grid_auto_flow": null,
      "grid_auto_rows": null,
      "grid_column": null,
      "grid_gap": null,
      "grid_row": null,
      "grid_template_areas": null,
      "grid_template_columns": null,
      "grid_template_rows": null,
      "height": null,
      "justify_content": null,
      "justify_items": null,
      "left": null,
      "margin": null,
      "max_height": null,
      "max_width": null,
      "min_height": null,
      "min_width": null,
      "object_fit": null,
      "object_position": null,
      "order": null,
      "overflow": null,
      "overflow_x": null,
      "overflow_y": null,
      "padding": null,
      "right": null,
      "top": null,
      "visibility": null,
      "width": null
     }
    },
    "f01a8b55b3d743d2b82f6825eeec1a5d": {
     "model_module": "@jupyter-widgets/controls",
     "model_module_version": "1.5.0",
     "model_name": "SliderStyleModel",
     "state": {
      "_model_module": "@jupyter-widgets/controls",
      "_model_module_version": "1.5.0",
      "_model_name": "SliderStyleModel",
      "_view_count": null,
      "_view_module": "@jupyter-widgets/base",
      "_view_module_version": "1.2.0",
      "_view_name": "StyleView",
      "description_width": "",
      "handle_color": null
     }
    },
    "f84d3d12f03e462a9fb3136f6dbeca67": {
     "model_module": "@jupyter-widgets/base",
     "model_module_version": "1.2.0",
     "model_name": "LayoutModel",
     "state": {
      "_model_module": "@jupyter-widgets/base",
      "_model_module_version": "1.2.0",
      "_model_name": "LayoutModel",
      "_view_count": null,
      "_view_module": "@jupyter-widgets/base",
      "_view_module_version": "1.2.0",
      "_view_name": "LayoutView",
      "align_content": null,
      "align_items": null,
      "align_self": null,
      "border": null,
      "bottom": null,
      "display": null,
      "flex": null,
      "flex_flow": null,
      "grid_area": null,
      "grid_auto_columns": null,
      "grid_auto_flow": null,
      "grid_auto_rows": null,
      "grid_column": null,
      "grid_gap": null,
      "grid_row": null,
      "grid_template_areas": null,
      "grid_template_columns": null,
      "grid_template_rows": null,
      "height": null,
      "justify_content": null,
      "justify_items": null,
      "left": null,
      "margin": null,
      "max_height": null,
      "max_width": null,
      "min_height": null,
      "min_width": null,
      "object_fit": null,
      "object_position": null,
      "order": null,
      "overflow": null,
      "overflow_x": null,
      "overflow_y": null,
      "padding": null,
      "right": null,
      "top": null,
      "visibility": null,
      "width": null
     }
    },
    "f883624293a641ada76923af09b148ad": {
     "model_module": "@jupyter-widgets/base",
     "model_module_version": "1.2.0",
     "model_name": "LayoutModel",
     "state": {
      "_model_module": "@jupyter-widgets/base",
      "_model_module_version": "1.2.0",
      "_model_name": "LayoutModel",
      "_view_count": null,
      "_view_module": "@jupyter-widgets/base",
      "_view_module_version": "1.2.0",
      "_view_name": "LayoutView",
      "align_content": null,
      "align_items": null,
      "align_self": null,
      "border": null,
      "bottom": null,
      "display": null,
      "flex": null,
      "flex_flow": null,
      "grid_area": null,
      "grid_auto_columns": null,
      "grid_auto_flow": null,
      "grid_auto_rows": null,
      "grid_column": null,
      "grid_gap": null,
      "grid_row": null,
      "grid_template_areas": null,
      "grid_template_columns": null,
      "grid_template_rows": null,
      "height": null,
      "justify_content": null,
      "justify_items": null,
      "left": null,
      "margin": null,
      "max_height": null,
      "max_width": null,
      "min_height": null,
      "min_width": null,
      "object_fit": null,
      "object_position": null,
      "order": null,
      "overflow": null,
      "overflow_x": null,
      "overflow_y": null,
      "padding": null,
      "right": null,
      "top": null,
      "visibility": null,
      "width": null
     }
    },
    "ff1fa12abed64dcc8b85de24cdeb5c66": {
     "model_module": "@jupyter-widgets/controls",
     "model_module_version": "1.5.0",
     "model_name": "FloatSliderModel",
     "state": {
      "_dom_classes": [],
      "_model_module": "@jupyter-widgets/controls",
      "_model_module_version": "1.5.0",
      "_model_name": "FloatSliderModel",
      "_view_count": null,
      "_view_module": "@jupyter-widgets/controls",
      "_view_module_version": "1.5.0",
      "_view_name": "FloatSliderView",
      "continuous_update": true,
      "description": "mu",
      "description_tooltip": null,
      "disabled": false,
      "layout": "IPY_MODEL_f883624293a641ada76923af09b148ad",
      "max": 4,
      "min": -4,
      "orientation": "horizontal",
      "readout": true,
      "readout_format": ".2f",
      "step": 0.01,
      "style": "IPY_MODEL_3b8c5962b73f4a5aa39399bdd3339fb9",
      "value": 0
     }
    }
   }
  }
 },
 "nbformat": 4,
 "nbformat_minor": 1
}
